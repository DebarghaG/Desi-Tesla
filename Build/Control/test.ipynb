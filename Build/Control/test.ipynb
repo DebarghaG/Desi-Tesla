{
 "cells": [
  {
   "cell_type": "code",
   "execution_count": 27,
   "metadata": {},
   "outputs": [],
   "source": [
    "def draw_lane_lines(image):\n",
    "    imshape = image.shape\n",
    "\n",
    "    # Greyscale image\n",
    "    greyscaled_image = grayscale(image)\n",
    "\n",
    "    # Gaussian Blur\n",
    "    blurred_grey_image = gaussian_blur(greyscaled_image, 5)\n",
    "\n",
    "    # Canny edge detection\n",
    "    edges_image = canny(blurred_grey_image, 50, 150)\n",
    "\n",
    "    # Mask edges image\n",
    "    border = 0\n",
    "    vertices = np.array([[(0,imshape[0]),(465, 320), (475, 320),\n",
    "    (imshape[1],imshape[0])]], dtype=np.int32)\n",
    "    edges_image_with_mask = region_of_interest(edges_image,\n",
    "    vertices)\n",
    "\n",
    "    # Hough lines\n",
    "    rho = 2\n",
    "    theta = np.pi/180\n",
    "    threshold = 45\n",
    "    min_line_len = 40\n",
    "    max_line_gap = 100\n",
    "    lines_image = hough_lines(edges_image_with_mask, rho, theta,\n",
    "    threshold, min_line_len, max_line_gap)\n",
    "\n",
    "    # Convert Hough from single channel to RGB to prep for weighted\n",
    "    hough_rgb_image = cv2.cvtColor(lines_image, cv2.COLOR_GRAY2BGR)\n",
    "\n",
    "    # Combine lines image with original image\n",
    "    final_image = weighted_img(hough_rgb_image, image)\n",
    "\n",
    "    return final_image\n"
   ]
  },
  {
   "cell_type": "code",
   "execution_count": 33,
   "metadata": {},
   "outputs": [],
   "source": [
    "import cv2\n",
    "img = cv2.imread(\"/Users/prajwalseth/Desktop/Programming/images/Lane.png\")"
   ]
  },
  {
   "cell_type": "code",
   "execution_count": 34,
   "metadata": {},
   "outputs": [
    {
     "ename": "NameError",
     "evalue": "name 'grayscale' is not defined",
     "output_type": "error",
     "traceback": [
      "\u001b[0;31m---------------------------------------------------------------------------\u001b[0m",
      "\u001b[0;31mNameError\u001b[0m                                 Traceback (most recent call last)",
      "\u001b[0;32m<ipython-input-34-0c7c0812dc49>\u001b[0m in \u001b[0;36m<module>\u001b[0;34m()\u001b[0m\n\u001b[0;32m----> 1\u001b[0;31m \u001b[0mdraw_lane_lines\u001b[0m\u001b[0;34m(\u001b[0m\u001b[0mimg\u001b[0m\u001b[0;34m)\u001b[0m\u001b[0;34m\u001b[0m\u001b[0m\n\u001b[0m",
      "\u001b[0;32m<ipython-input-27-7e4e501fbbf7>\u001b[0m in \u001b[0;36mdraw_lane_lines\u001b[0;34m(image)\u001b[0m\n\u001b[1;32m      3\u001b[0m \u001b[0;34m\u001b[0m\u001b[0m\n\u001b[1;32m      4\u001b[0m     \u001b[0;31m# Greyscale image\u001b[0m\u001b[0;34m\u001b[0m\u001b[0;34m\u001b[0m\u001b[0m\n\u001b[0;32m----> 5\u001b[0;31m     \u001b[0mgreyscaled_image\u001b[0m \u001b[0;34m=\u001b[0m \u001b[0mgrayscale\u001b[0m\u001b[0;34m(\u001b[0m\u001b[0mimage\u001b[0m\u001b[0;34m)\u001b[0m\u001b[0;34m\u001b[0m\u001b[0m\n\u001b[0m\u001b[1;32m      6\u001b[0m \u001b[0;34m\u001b[0m\u001b[0m\n\u001b[1;32m      7\u001b[0m     \u001b[0;31m# Gaussian Blur\u001b[0m\u001b[0;34m\u001b[0m\u001b[0;34m\u001b[0m\u001b[0m\n",
      "\u001b[0;31mNameError\u001b[0m: name 'grayscale' is not defined"
     ]
    }
   ],
   "source": [
    "draw_lane_lines(img)"
   ]
  },
  {
   "cell_type": "code",
   "execution_count": 38,
   "metadata": {},
   "outputs": [
    {
     "ename": "ModuleNotFoundError",
     "evalue": "No module named 'RPi'",
     "output_type": "error",
     "traceback": [
      "\u001b[0;31m---------------------------------------------------------------------------\u001b[0m",
      "\u001b[0;31mModuleNotFoundError\u001b[0m                       Traceback (most recent call last)",
      "\u001b[0;32m<ipython-input-38-2eb7158d6361>\u001b[0m in \u001b[0;36m<module>\u001b[0;34m()\u001b[0m\n\u001b[0;32m----> 1\u001b[0;31m \u001b[0;32mimport\u001b[0m \u001b[0mRPi\u001b[0m\u001b[0;34m.\u001b[0m\u001b[0mGPIO\u001b[0m \u001b[0;32mas\u001b[0m \u001b[0mGPIO\u001b[0m\u001b[0;34m\u001b[0m\u001b[0m\n\u001b[0m\u001b[1;32m      2\u001b[0m \u001b[0;34m\u001b[0m\u001b[0m\n\u001b[1;32m      3\u001b[0m \u001b[0;32mdef\u001b[0m \u001b[0mDirection\u001b[0m\u001b[0;34m(\u001b[0m\u001b[0;34m)\u001b[0m\u001b[0;34m:\u001b[0m\u001b[0;34m\u001b[0m\u001b[0m\n\u001b[1;32m      4\u001b[0m     \u001b[0mleft\u001b[0m \u001b[0;34m=\u001b[0m \u001b[0mGPIO\u001b[0m\u001b[0;34m.\u001b[0m\u001b[0minput\u001b[0m\u001b[0;34m(\u001b[0m\u001b[0;36m21\u001b[0m\u001b[0;34m)\u001b[0m\u001b[0;34m\u001b[0m\u001b[0m\n\u001b[1;32m      5\u001b[0m     \u001b[0mright\u001b[0m \u001b[0;34m=\u001b[0m \u001b[0mGPIO\u001b[0m\u001b[0;34m.\u001b[0m\u001b[0minput\u001b[0m\u001b[0;34m(\u001b[0m\u001b[0;36m22\u001b[0m\u001b[0;34m)\u001b[0m\u001b[0;34m\u001b[0m\u001b[0m\n",
      "\u001b[0;31mModuleNotFoundError\u001b[0m: No module named 'RPi'"
     ]
    }
   ],
   "source": [
    "import RPi.GPIO as GPIO\n",
    "\n",
    "def Direction():\n",
    "    left = GPIO.input(21)\n",
    "    right = GPIO.input(22)\n",
    "    forward = GPIO.input(23)\n",
    "\n",
    "    if(left== True and right== False and foward==True):\n",
    "        direction = 'FL'\n",
    "    if(left== False and right== True and foward==True):\n",
    "        direction = 'FR'\n",
    "    if(left== False and right== False and foward==True):\n",
    "        direction = 'FF'\n",
    "    if(left== False and right== False and foward==False):\n",
    "        direction = 'NN'\n",
    "    return direction\n"
   ]
  },
  {
   "cell_type": "code",
   "execution_count": 41,
   "metadata": {},
   "outputs": [
    {
     "ename": "ModuleNotFoundError",
     "evalue": "No module named 'picamera'",
     "output_type": "error",
     "traceback": [
      "\u001b[0;31m---------------------------------------------------------------------------\u001b[0m",
      "\u001b[0;31mModuleNotFoundError\u001b[0m                       Traceback (most recent call last)",
      "\u001b[0;32m<ipython-input-41-12e54c14b1eb>\u001b[0m in \u001b[0;36m<module>\u001b[0;34m()\u001b[0m\n\u001b[0;32m----> 1\u001b[0;31m \u001b[0;32mimport\u001b[0m \u001b[0mpicamera\u001b[0m\u001b[0;34m\u001b[0m\u001b[0m\n\u001b[0m\u001b[1;32m      2\u001b[0m \u001b[0;32mfrom\u001b[0m \u001b[0mPinRead\u001b[0m \u001b[0;32mimport\u001b[0m \u001b[0mDirection\u001b[0m\u001b[0;34m\u001b[0m\u001b[0m\n\u001b[1;32m      3\u001b[0m \u001b[0;32mimport\u001b[0m \u001b[0mdatetime\u001b[0m \u001b[0;32mas\u001b[0m \u001b[0mdt\u001b[0m\u001b[0;34m\u001b[0m\u001b[0m\n\u001b[1;32m      4\u001b[0m \u001b[0mcamera\u001b[0m \u001b[0;34m=\u001b[0m \u001b[0mpicamera\u001b[0m\u001b[0;34m.\u001b[0m\u001b[0mPiCamera\u001b[0m\u001b[0;34m(\u001b[0m\u001b[0;34m)\u001b[0m\u001b[0;34m\u001b[0m\u001b[0m\n\u001b[1;32m      5\u001b[0m \u001b[0;34m\u001b[0m\u001b[0m\n",
      "\u001b[0;31mModuleNotFoundError\u001b[0m: No module named 'picamera'"
     ]
    }
   ],
   "source": [
    "import picamera\n",
    "from PinRead import Direction\n",
    "import datetime as dt\n",
    "camera = picamera.PiCamera()\n",
    "\n",
    "def CaptureForTraining():\n",
    "    i=0\n",
    "    #250 millisecond delay between images\n",
    "    #120,000 ms total runtime ( 2 minutes for training)\n",
    "    while(i<120000):\n",
    "        timeinms=int((dt.datetime.utcnow() - dt.datetime(1970,1,1)).total_seconds() * 1000)\n",
    "        dir = Direction()\n",
    "        camera.capture(str(timeinms) + dir + \".jpg\", resize=(640, 480))\n",
    "        i+=250\n",
    "        #Sleeping for 250ms\n",
    "        sleep(250)\n",
    "        \n",
    "\n",
    "    camera.resolution = (800, 600)\n"
   ]
  },
  {
   "cell_type": "code",
   "execution_count": null,
   "metadata": {},
   "outputs": [],
   "source": []
  }
 ],
 "metadata": {
  "kernelspec": {
   "display_name": "Python 3",
   "language": "python",
   "name": "python3"
  },
  "language_info": {
   "codemirror_mode": {
    "name": "ipython",
    "version": 3
   },
   "file_extension": ".py",
   "mimetype": "text/x-python",
   "name": "python",
   "nbconvert_exporter": "python",
   "pygments_lexer": "ipython3",
   "version": "3.6.5"
  }
 },
 "nbformat": 4,
 "nbformat_minor": 2
}
